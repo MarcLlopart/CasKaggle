{
 "cells": [
  {
   "cell_type": "code",
   "execution_count": 4,
   "metadata": {},
   "outputs": [],
   "source": [
    "import joblib\n",
    "import dill\n",
    "import pandas as pd\n",
    "import os\n",
    "import torchvision\n",
    "import torch\n",
    "from PIL import Image\n",
    "from sklearn.model_selection import train_test_split\n",
    "import warnings\n",
    "warnings.filterwarnings('ignore')\n"
   ]
  },
  {
   "cell_type": "code",
   "execution_count": 10,
   "metadata": {},
   "outputs": [
    {
     "name": "stdout",
     "output_type": "stream",
     "text": [
      "El model seleccionat és Decision Tree i té una accuracy del 98.4%\n"
     ]
    }
   ],
   "source": [
    "dataset_net = joblib.load('dataset_net.pkl')\n",
    "atributs = joblib.load('atributes.pkl')\n",
    "model_escollit=joblib.load('model_escollit.pkl')\n",
    "y = dataset_net.iloc[:,-1]\n",
    "X = dataset_net.loc[:,atributs]\n",
    "X_train, X_test, y_train, y_test = train_test_split(X, y, train_size=0.8)\n",
    "model = joblib.load('trained_model.pkl')\n",
    "print(f\"El model seleccionat és {model_escollit} i té una accuracy del {round(model.score(X_test, y_test),3)*100}%\")"
   ]
  },
  {
   "cell_type": "code",
   "execution_count": 7,
   "metadata": {},
   "outputs": [
    {
     "name": "stdout",
     "output_type": "stream",
     "text": [
      "El pacient té 99.88% de possiblitats de no tenir un tumor cerebral\n"
     ]
    }
   ],
   "source": [
    "out = joblib.load('trained_images.pkl')\n",
    "labels = joblib.load('labels.pkl')\n",
    "nom_imatge = joblib.load('nom_imatge.pkl')\n",
    "\n",
    "_, index = torch.max(out, 1)\n",
    " \n",
    "percentage = torch.nn.functional.softmax(out, dim=1)[0] * 100\n",
    "\n",
    "if (labels[index[0]] == \"Tumor\"):\n",
    "    pacient = \"tenir un tumor cerebral\"\n",
    "else: \n",
    "    pacient = \"no tenir un tumor cerebral\"\n",
    "print(f\"El pacient de la {nom_imatge} té {round(percentage[index[0]].item(),2)}% de possiblitats de {pacient}\")\n"
   ]
  }
 ],
 "metadata": {
  "kernelspec": {
   "display_name": "Python 3",
   "language": "python",
   "name": "python3"
  },
  "language_info": {
   "codemirror_mode": {
    "name": "ipython",
    "version": 3
   },
   "file_extension": ".py",
   "mimetype": "text/x-python",
   "name": "python",
   "nbconvert_exporter": "python",
   "pygments_lexer": "ipython3",
   "version": "3.8.5"
  }
 },
 "nbformat": 4,
 "nbformat_minor": 4
}
