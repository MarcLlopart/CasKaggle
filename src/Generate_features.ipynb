{
 "cells": [
  {
   "cell_type": "code",
   "execution_count": 53,
   "metadata": {},
   "outputs": [],
   "source": [
    "import joblib\n",
    "import dill\n",
    "import pandas as pd\n",
    "import os\n",
    "import torchvision\n",
    "import torch\n",
    "from PIL import Image\n",
    "import warnings\n",
    "warnings.filterwarnings('ignore')"
   ]
  },
  {
   "cell_type": "code",
   "execution_count": 54,
   "metadata": {},
   "outputs": [],
   "source": [
    "dataset = joblib.load('dataset.pkl')"
   ]
  },
  {
   "cell_type": "code",
   "execution_count": 55,
   "metadata": {},
   "outputs": [],
   "source": [
    "normalize = dill.load(open('normalize.pkl','rb'))\n",
    "load_dataset = dill.load(open('load_data.pkl','rb'))\n",
    "transform = joblib.load('image_transform.pkl')\n",
    "atributs = joblib.load('atributes.pkl')"
   ]
  },
  {
   "cell_type": "code",
   "execution_count": 57,
   "metadata": {},
   "outputs": [
    {
     "name": "stdout",
     "output_type": "stream",
     "text": [
      "Introdueix el nom del dataset: Brain Tumor.csv\n"
     ]
    },
    {
     "data": {
      "text/plain": [
       "'Brain Tumor.csv'"
      ]
     },
     "execution_count": 57,
     "metadata": {},
     "output_type": "execute_result"
    }
   ],
   "source": [
    "#Load dataset\n",
    "nom_dataset = input(\"Introdueix el nom del dataset: \")\n",
    "nom_dataset"
   ]
  },
  {
   "cell_type": "code",
   "execution_count": 58,
   "metadata": {},
   "outputs": [],
   "source": [
    "df = load_dataset(nom_dataset)\n",
    "#dataset_normalitzat = normalize(df)\n",
    "dataset_net =  df[atributs]"
   ]
  },
  {
   "cell_type": "code",
   "execution_count": 65,
   "metadata": {},
   "outputs": [
    {
     "data": {
      "text/plain": [
       "['dataset_net.pkl']"
      ]
     },
     "execution_count": 65,
     "metadata": {},
     "output_type": "execute_result"
    }
   ],
   "source": [
    "dataset_net['Class']=dataset['Class']\n",
    "dataset_net = normalize(dataset_net)\n",
    "joblib.dump(dataset_net,'dataset_net.pkl')"
   ]
  },
  {
   "cell_type": "code",
   "execution_count": 66,
   "metadata": {},
   "outputs": [
    {
     "name": "stdout",
     "output_type": "stream",
     "text": [
      "Introdueix el nom de la imatge a transformar: Image1\n"
     ]
    },
    {
     "data": {
      "text/plain": [
       "['nom_imatge.pkl']"
      ]
     },
     "execution_count": 66,
     "metadata": {},
     "output_type": "execute_result"
    }
   ],
   "source": [
    "nom_imatge = input(\"Introdueix el nom de la imatge a transformar: \")\n",
    "joblib.dump(nom_imatge, 'nom_imatge.pkl')"
   ]
  },
  {
   "cell_type": "code",
   "execution_count": 62,
   "metadata": {},
   "outputs": [],
   "source": [
    "actual_dir = os.getcwd() \n",
    "folder_name=\"Brain Tumor\"\n",
    "data_dir = os.path.join(actual_dir, folder_name)\n",
    "image_dir = os.path.join(data_dir, folder_name)\n",
    "image = os.path.join(image_dir, nom_imatge)\n",
    "img = Image.open(image)\n",
    "img_t =  transform(img)"
   ]
  },
  {
   "cell_type": "code",
   "execution_count": 63,
   "metadata": {},
   "outputs": [
    {
     "data": {
      "text/plain": [
       "['imatge_transformada.pkl']"
      ]
     },
     "execution_count": 63,
     "metadata": {},
     "output_type": "execute_result"
    }
   ],
   "source": [
    "joblib.dump(img_t, 'imatge_transformada.pkl')"
   ]
  },
  {
   "cell_type": "code",
   "execution_count": null,
   "metadata": {},
   "outputs": [],
   "source": []
  }
 ],
 "metadata": {
  "kernelspec": {
   "display_name": "Python 3",
   "language": "python",
   "name": "python3"
  },
  "language_info": {
   "codemirror_mode": {
    "name": "ipython",
    "version": 3
   },
   "file_extension": ".py",
   "mimetype": "text/x-python",
   "name": "python",
   "nbconvert_exporter": "python",
   "pygments_lexer": "ipython3",
   "version": "3.8.5"
  }
 },
 "nbformat": 4,
 "nbformat_minor": 4
}
