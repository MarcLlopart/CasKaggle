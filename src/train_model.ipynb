{
 "cells": [
  {
   "cell_type": "code",
   "execution_count": 1,
   "metadata": {},
   "outputs": [],
   "source": [
    "import joblib\n",
    "import dill\n",
    "import pandas as pd\n",
    "import os\n",
    "import torchvision\n",
    "import torch\n",
    "from PIL import Image\n",
    "from sklearn.model_selection import train_test_split\n",
    "import warnings\n",
    "warnings.filterwarnings('ignore')"
   ]
  },
  {
   "cell_type": "markdown",
   "metadata": {},
   "source": [
    "Escull entre els models següents el que més t'agradi: \n",
    "\n",
    "1. Regressió Logística  \n",
    "2. Decision Tree\n",
    "3. Random Forest\n",
    "4. AdaBoostClassifier\n",
    "5. XGBoostClassifier\n",
    "6. MLP (Neuronal Network)\n",
    "7. SVM Kernel Linear\n",
    "8. LinearSVC\n",
    "9. SVM Kernel RBF\n",
    "10. SVM Kernel Polynomial\n",
    "11. SVM Kernel Sigmoid"
   ]
  },
  {
   "cell_type": "code",
   "execution_count": 29,
   "metadata": {},
   "outputs": [
    {
     "name": "stdout",
     "output_type": "stream",
     "text": [
      "1. Regressió Logística\n",
      "2. Decision Tree\n",
      "3. Random Forest\n",
      "4. AdaBoostClassifier\n",
      "5. XGBoostClassifier\n",
      "6. MLP (Neuronal Network)\n",
      "7. SVM Kernel Linear\n",
      "8. LinearSVC\n",
      "9. SVM Kernel RBF\n",
      "10. SVM Kernel Polynomial\n",
      "11. SVM Kernel Sigmoid \n",
      "Tria el teu model: 2\n"
     ]
    }
   ],
   "source": [
    "print(\"1. Regressió Logística\\n2. Decision Tree\\n3. Random Forest\\n4. AdaBoostClassifier\\n5. XGBoostClassifier\\n6. MLP (Neuronal Network)\\n7. SVM Kernel Linear\\n8. LinearSVC\\n9. SVM Kernel RBF\\n10. SVM Kernel Polynomial\\n11. SVM Kernel Sigmoid \")\n",
    "model_escollit = int(input(\"Tria el teu model: \"))"
   ]
  },
  {
   "cell_type": "code",
   "execution_count": 28,
   "metadata": {},
   "outputs": [
    {
     "data": {
      "text/plain": [
       "['model_escollit.pkl']"
      ]
     },
     "execution_count": 28,
     "metadata": {},
     "output_type": "execute_result"
    }
   ],
   "source": [
    "if model_escollit ==1 : \n",
    "    model_escollit=\"Regressió Logística\"\n",
    "    model = joblib.load('lr.pkl') # Guardo el modelo.\n",
    "elif model_escollit ==2:\n",
    "    model_escollit=\"Decision Tree\"\n",
    "    model = joblib.load('dt.pkl') # Guardo el modelo.\n",
    "elif model_escollit ==3: \n",
    "    model_escollit=\"Random Forest\"\n",
    "    model = joblib.load('rf.pkl')\n",
    "elif model_escollit ==4: \n",
    "    model_escollit=\"Ada Boost Classifier\"\n",
    "    model = joblib.load('ada.pkl') # Guardo el modelo.\n",
    "elif model_escollit ==5: \n",
    "    model_escollit=\"XGBoost Classifier\"\n",
    "    model = joblib.load('xb.pkl') # Guardo el modelo.\n",
    "elif model_escollit ==6:\n",
    "    model_escollit=\"MLP(Neuronal Network)\"\n",
    "    model = joblib.load('mlp.pkl') # Guardo el modelo.\n",
    "elif model_escollit ==7:\n",
    "    model_escollit=\"SVM Kernel Linear\"\n",
    "    model = joblib.load('sl.pkl') # Guardo el modelo.\n",
    "elif model_escollit ==8:\n",
    "    model_escollit=\"LinearSVC\"\n",
    "    model = joblib.load('svcl.pkl') # Guardo el modelo.\n",
    "elif model_escollit ==9:\n",
    "    model_escollit=\"SVM Kernel RBF\"\n",
    "    mnodel = joblib.load('rbf.pkl') # Guardo el modelo.\n",
    "elif model_escollit ==10:\n",
    "    model_escollit=\"SVM Kernel Polynomial\"\n",
    "    model = joblib.load('polynomical.pkl') # Guardo el modelo.\n",
    "elif model_escollit ==11:\n",
    "    model_escollit=\"SVM Kernel Sigmoid\"\n",
    "    model = joblib.load('sigmoid.pkl') # Guardo el modelo.\n",
    "\n",
    "squeezenet = joblib.load('squeezenet.pkl') # Guardo el modelo.\n",
    "joblib.dump(model_escollit,'model_escollit.pkl')"
   ]
  },
  {
   "cell_type": "code",
   "execution_count": 23,
   "metadata": {},
   "outputs": [],
   "source": [
    "dataset_net = joblib.load('dataset_net.pkl')\n",
    "atributs = joblib.load('atributes.pkl')"
   ]
  },
  {
   "cell_type": "code",
   "execution_count": 24,
   "metadata": {},
   "outputs": [],
   "source": [
    "y = dataset_net.iloc[:,-1]\n",
    "X = dataset_net.loc[:,atributs]\n",
    "from sklearn.model_selection import train_test_split\n",
    "X_train, X_test, y_train, y_test = train_test_split(X, y, train_size=0.8)\n",
    "model = model.best_estimator_\n",
    "model = model.fit(X_train, y_train)"
   ]
  },
  {
   "cell_type": "code",
   "execution_count": 25,
   "metadata": {},
   "outputs": [
    {
     "data": {
      "text/plain": [
       "['trained_model.pkl']"
      ]
     },
     "execution_count": 25,
     "metadata": {},
     "output_type": "execute_result"
    }
   ],
   "source": [
    "joblib.dump(model, 'trained_model.pkl')"
   ]
  },
  {
   "cell_type": "code",
   "execution_count": 27,
   "metadata": {},
   "outputs": [
    {
     "data": {
      "text/plain": [
       "['labels.pkl']"
      ]
     },
     "execution_count": 27,
     "metadata": {},
     "output_type": "execute_result"
    }
   ],
   "source": [
    "img_t = joblib.load('imatge_transformada.pkl')\n",
    "labels = [\"No tumor\", \"Tumor\"]\n",
    "batch_t = torch.unsqueeze(img_t,0)\n",
    "img_model = squeezenet.eval()\n",
    "out = img_model(batch_t)\n",
    "joblib.dump(out,'trained_images.pkl')\n",
    "joblib.dump(labels,'labels.pkl')"
   ]
  },
  {
   "cell_type": "code",
   "execution_count": null,
   "metadata": {},
   "outputs": [],
   "source": []
  }
 ],
 "metadata": {
  "kernelspec": {
   "display_name": "Python 3",
   "language": "python",
   "name": "python3"
  },
  "language_info": {
   "codemirror_mode": {
    "name": "ipython",
    "version": 3
   },
   "file_extension": ".py",
   "mimetype": "text/x-python",
   "name": "python",
   "nbconvert_exporter": "python",
   "pygments_lexer": "ipython3",
   "version": "3.8.5"
  }
 },
 "nbformat": 4,
 "nbformat_minor": 4
}
