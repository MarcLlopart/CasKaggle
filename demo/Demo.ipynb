{
 "cells": [
  {
   "cell_type": "code",
   "execution_count": 53,
   "metadata": {},
   "outputs": [],
   "source": [
    "import joblib\n",
    "import dill\n",
    "import pandas as pd\n",
    "import os\n",
    "import torchvision\n",
    "import torch\n",
    "from sklearn.model_selection import train_test_split\n",
    "from PIL import Image\n",
    "import warnings\n",
    "warnings.filterwarnings('ignore')"
   ]
  },
  {
   "cell_type": "markdown",
   "metadata": {},
   "source": [
    "Escull entre els models següents el que més t'agradi: \n",
    "\n",
    "1. Regressió Logística  \n",
    "2. Decision Tree\n",
    "3. Random Forest\n",
    "4. AdaBoostClassifier\n",
    "5. XGBoostClassifier\n",
    "6. MLP (Neuronal Network)\n",
    "7. SVM Kernel Linear\n",
    "8. LinearSVC\n",
    "9. SVM Kernel RBF\n",
    "10. SVM Kernel Polynomial\n",
    "11. SVM Kernel Sigmoid\n"
   ]
  },
  {
   "cell_type": "code",
   "execution_count": 55,
   "metadata": {},
   "outputs": [
    {
     "name": "stdout",
     "output_type": "stream",
     "text": [
      "1. Regressió Logística\n",
      "2. Decision Tree\n",
      "3. Random Forest\n",
      "4. AdaBoostClassifier\n",
      "5. XGBoostClassifier\n",
      "6. MLP (Neuronal Network)\n",
      "7. SVM Kernel Linear\n",
      "8. LinearSVC\n",
      "9. SVM Kernel RBF\n",
      "10. SVM Kernel Polynomial\n",
      "11. SVM Kernel Sigmoid \n",
      "Tria el teu model: 2\n"
     ]
    }
   ],
   "source": [
    "print(\"1. Regressió Logística\\n2. Decision Tree\\n3. Random Forest\\n4. AdaBoostClassifier\\n5. XGBoostClassifier\\n6. MLP (Neuronal Network)\\n7. SVM Kernel Linear\\n8. LinearSVC\\n9. SVM Kernel RBF\\n10. SVM Kernel Polynomial\\n11. SVM Kernel Sigmoid \")\n",
    "model_escollit = int(input(\"Tria el teu model: \"))"
   ]
  },
  {
   "cell_type": "code",
   "execution_count": 56,
   "metadata": {},
   "outputs": [],
   "source": [
    "if model_escollit ==1 : \n",
    "    model_escollit=\"Regressió Logística\"\n",
    "    model = joblib.load('lr.pkl') # Guardo el modelo.\n",
    "elif model_escollit ==2:\n",
    "    model_escollit=\"Decision Tree\"\n",
    "    model = joblib.load('dt.pkl') # Guardo el modelo.\n",
    "elif model_escollit ==3: \n",
    "    model_escollit=\"Random Forest\"\n",
    "    model = joblib.load('rf.pkl')\n",
    "elif model_escollit ==4: \n",
    "    model_escollit=\"Ada Boost Classifier\"\n",
    "    model = joblib.load('ada.pkl') # Guardo el modelo.\n",
    "elif model_escollit ==5: \n",
    "    model_escollit=\"XGBoost Classifier\"\n",
    "    model = joblib.load('xb.pkl') # Guardo el modelo.\n",
    "elif model_escollit ==6:\n",
    "    model_escollit=\"MLP(Neuronal Network)\"\n",
    "    model = joblib.load('mlp.pkl') # Guardo el modelo.\n",
    "elif model_escollit ==7:\n",
    "    model_escollit=\"SVM Kernel Linear\"\n",
    "    model = joblib.load('sl.pkl') # Guardo el modelo.\n",
    "elif model_escollit ==8:\n",
    "    model_escollit=\"LinearSVC\"\n",
    "    model = joblib.load('svcl.pkl') # Guardo el modelo.\n",
    "elif model_escollit ==9:\n",
    "    model_escollit=\"SVM Kernel RBF\"\n",
    "    mnodel = joblib.load('rbf.pkl') # Guardo el modelo.\n",
    "elif model_escollit ==10:\n",
    "    model_escollit=\"SVM Kernel Polynomial\"\n",
    "    model = joblib.load('polynomical.pkl') # Guardo el modelo.\n",
    "elif model_escollit ==11:\n",
    "    model_escollit=\"SVM Kernel Sigmoid\"\n",
    "    model = joblib.load('sigmoid.pkl') # Guardo el modelo.\n",
    "\n",
    "squeezenet = joblib.load('squeezenet.pkl') # Guardo el modelo.\n"
   ]
  },
  {
   "cell_type": "code",
   "execution_count": 57,
   "metadata": {},
   "outputs": [],
   "source": [
    "normalize = dill.load(open('normalize.pkl','rb'))\n",
    "load_dataset = dill.load(open('load_data.pkl','rb'))\n",
    "transform = joblib.load('image_transform.pkl')\n",
    "atributs = joblib.load('atributes.pkl')"
   ]
  },
  {
   "cell_type": "code",
   "execution_count": 67,
   "metadata": {},
   "outputs": [
    {
     "name": "stdout",
     "output_type": "stream",
     "text": [
      "Introdueix el nom del dataset: Brain Tumor.csv\n"
     ]
    }
   ],
   "source": [
    "# Carreguem dataset d'exemple\n",
    "nom_dataset = input(\"Introdueix el nom del dataset: \")\n",
    "\n",
    "dataset = load_dataset(nom_dataset)"
   ]
  },
  {
   "cell_type": "code",
   "execution_count": 68,
   "metadata": {},
   "outputs": [
    {
     "data": {
      "text/plain": [
       "0.9827357237715804"
      ]
     },
     "execution_count": 68,
     "metadata": {},
     "output_type": "execute_result"
    }
   ],
   "source": [
    "dataset2 = joblib.load('dataset.pkl')\n",
    "dataset = dataset[atributs]\n",
    "dataset['Class']=dataset2['Class'].head(len(dataset))\n",
    "\n",
    "dataset = normalize(dataset)\n",
    "y = dataset.iloc[:,-1]\n",
    "X = dataset.loc[:,atributs]\n",
    "from sklearn.model_selection import train_test_split\n",
    "X_train, X_test, y_train, y_test = train_test_split(X, y, train_size=0.8)\n",
    "\n",
    "model.score(X_test,y_test)\n"
   ]
  },
  {
   "cell_type": "code",
   "execution_count": 69,
   "metadata": {},
   "outputs": [
    {
     "name": "stdout",
     "output_type": "stream",
     "text": [
      "Escull un valor fins a 753: 34\n"
     ]
    }
   ],
   "source": [
    "mostra = int(input(f\"Escull un valor fins a {len(X_test)}: \"))"
   ]
  },
  {
   "cell_type": "code",
   "execution_count": 70,
   "metadata": {},
   "outputs": [],
   "source": [
    "if model.predict(X_test)[mostra-1] == 1:\n",
    "    prediccio = \"el pacient té un tumor\"\n",
    "else: \n",
    "    prediccio = \"el pacient no té un tumor\"\n",
    "    \n",
    "if y_test[y_test.index[mostra-1]] == 1:\n",
    "    realitat = \"el pacient té un tumor\"\n",
    "else:\n",
    "    realitat =  \"el pacient no té un tumor\"\n",
    "    "
   ]
  },
  {
   "cell_type": "code",
   "execution_count": 71,
   "metadata": {},
   "outputs": [
    {
     "name": "stdout",
     "output_type": "stream",
     "text": [
      "Utilitzant el dataset Brain Tumor.csv\n",
      "El model escollit ha estat Decision Tree i ha obtingut una precisió del 98.3%\n",
      "Un exemple de classificació seria la mostra 34 que hem predit que el pacient té un tumor i en realitat  el pacient té un tumor\n"
     ]
    }
   ],
   "source": [
    "print(f\"Utilitzant el dataset {nom_dataset}: \")\n",
    "print(f\"El model escollit ha estat {model_escollit} i ha obtingut una precisió del {round(model.score(X_test,y_test),3)*100}%\")\n",
    "print(f\"Un exemple de classificació seria la mostra {mostra} que hem predit que {prediccio} i en realitat  {realitat}\")\n",
    "\n",
    "\n"
   ]
  },
  {
   "cell_type": "markdown",
   "metadata": {},
   "source": [
    "Un cop hem vist com funcionen les classificacions per dades a partir d'un dataset en concret, anem a provar que passa si utilitzem imatges."
   ]
  },
  {
   "cell_type": "code",
   "execution_count": 45,
   "metadata": {},
   "outputs": [
    {
     "data": {
      "image/png": "[encoded data removed]",
      "text/plain": [
       "<PIL.JpegImagePlugin.JpegImageFile image mode=RGB size=240x240 at 0x271642FF460>"
      ]
     },
     "execution_count": 45,
     "metadata": {},
     "output_type": "execute_result"
    }
   ],
   "source": [
    "actual_dir = os.getcwd() \n",
    "folder_name=\"Brain Tumor\"\n",
    "data_dir = os.path.join(actual_dir, folder_name)\n",
    "image_dir = os.path.join(data_dir, folder_name)\n",
    "image = os.path.join(image_dir, \"Image1.jpg\")\n",
    "img = Image.open(image)\n",
    "img"
   ]
  },
  {
   "cell_type": "code",
   "execution_count": 77,
   "metadata": {},
   "outputs": [
    {
     "name": "stdout",
     "output_type": "stream",
     "text": [
      "El pacient de la imatge 1 té 99.07% de possiblitats de tenir un tumor cerebral\n"
     ]
    }
   ],
   "source": [
    "model = squeezenet.eval()\n",
    "img_t =  transform(img)\n",
    "batch_t = torch.unsqueeze(img_t,0)\n",
    "out = model(batch_t)\n",
    "labels = [\"No tumor\", \"Tumor\"]\n",
    "_, index = torch.max(out, 1)\n",
    " \n",
    "percentage = torch.nn.functional.softmax(out, dim=1)[0] * 100\n",
    "\n",
    "if (labels[index[0]] == \"Tumor\"):\n",
    "    pacient = \"tenir un tumor cerebral\"\n",
    "else: \n",
    "    pacient = \"no tenir un tumor cerebral\"\n",
    "print(f\"El pacient de la imatge 1 té {round(percentage[index[0]].item(),2)}% de possiblitats de {pacient}\")\n"
   ]
  },
  {
   "cell_type": "code",
   "execution_count": 78,
   "metadata": {},
   "outputs": [
    {
     "data": {
      "image/png": "[encoded data removed]",
      "text/plain": [
       "<PIL.JpegImagePlugin.JpegImageFile image mode=RGB size=240x240 at 0x2715EB66D30>"
      ]
     },
     "execution_count": 78,
     "metadata": {},
     "output_type": "execute_result"
    }
   ],
   "source": [
    "actual_dir = os.getcwd() \n",
    "folder_name=\"Brain Tumor\"\n",
    "data_dir = os.path.join(actual_dir, folder_name)\n",
    "image_dir = os.path.join(data_dir, folder_name)\n",
    "image = os.path.join(image_dir, \"Image151.jpg\")\n",
    "img = Image.open(image)\n",
    "img"
   ]
  },
  {
   "cell_type": "code",
   "execution_count": 79,
   "metadata": {},
   "outputs": [
    {
     "name": "stdout",
     "output_type": "stream",
     "text": [
      "El pacient de la imatge 151 té 99.07% de possiblitats de tenir un tumor cerebral\n"
     ]
    }
   ],
   "source": [
    "img_t =  transform(img)\n",
    "batch_t = torch.unsqueeze(img_t,0)\n",
    "out = model(batch_t)\n",
    "labels = [\"No tumor\", \"Tumor\"]\n",
    "_, index = torch.max(out, 1)\n",
    " \n",
    "percentage = torch.nn.functional.softmax(out, dim=1)[0] * 100\n",
    "\n",
    "if (labels[index[0]] == \"Tumor\"):\n",
    "    pacient = \"tenir un tumor cerebral\"\n",
    "else: \n",
    "    pacient = \"no tenir un tumor cerebral\"\n",
    "print(f\"El pacient de la imatge 151 té {round(percentage[index[0]].item(),2)}% de possiblitats de {pacient}\")"
   ]
  },
  {
   "cell_type": "code",
   "execution_count": null,
   "metadata": {},
   "outputs": [],
   "source": []
  }
 ],
 "metadata": {
  "kernelspec": {
   "display_name": "Python 3",
   "language": "python",
   "name": "python3"
  },
  "language_info": {
   "codemirror_mode": {
    "name": "ipython",
    "version": 3
   },
   "file_extension": ".py",
   "mimetype": "text/x-python",
   "name": "python",
   "nbconvert_exporter": "python",
   "pygments_lexer": "ipython3",
   "version": "3.8.5"
  }
 },
 "nbformat": 4,
 "nbformat_minor": 4
}
